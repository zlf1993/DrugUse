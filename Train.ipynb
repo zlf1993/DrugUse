{
 "cells": [
  {
   "cell_type": "markdown",
   "metadata": {},
   "source": [
    "# Train neural network model"
   ]
  },
  {
   "cell_type": "markdown",
   "metadata": {},
   "source": [
    "## Hyper-parameters and placeholders"
   ]
  },
  {
   "cell_type": "code",
   "execution_count": 1,
   "metadata": {},
   "outputs": [],
   "source": [
    "import tensorflow as tf\n",
    "import numpy as np\n",
    "from CNN import get_cnn\n",
    "import os\n",
    "import time\n",
    "import datetime\n",
    "import pickle\n",
    "import csv\n",
    "\n",
    "K = 400 # word2vec embedding dimension\n",
    "L = 50 # 50 words limit for each sentence\n",
    "NUM_CLASSES = 2\n",
    "\n",
    "_x = tf.placeholder(tf.float32, [None, L, K], name='input_x')\n",
    "_y = tf.placeholder(tf.float32, [None, NUM_CLASSES], name='input_y')\n",
    "\n"
   ]
  },
  {
   "cell_type": "code",
   "execution_count": 11,
   "metadata": {},
   "outputs": [
    {
     "name": "stderr",
     "output_type": "stream",
     "text": [
      "c:\\users\\yanpe\\appdata\\local\\programs\\python\\python35\\lib\\site-packages\\gensim\\utils.py:1212: UserWarning: detected Windows; aliasing chunkize to chunkize_serial\n",
      "  warnings.warn(\"detected Windows; aliasing chunkize to chunkize_serial\")\n"
     ]
    },
    {
     "name": "stdout",
     "output_type": "stream",
     "text": [
      "W2V loaded!\n"
     ]
    }
   ],
   "source": [
    "import gensim\n",
    "\n",
    "MODEL_PATH = 'dataset/word2vec_twitter_model.bin'\n",
    "w2v_model = gensim.models.KeyedVectors.load_word2vec_format(MODEL_PATH, binary=True, limit=3000000)\n",
    "#w2v_model = gensim.models.KeyedVectors.load_word2vec_format(MODEL_PATH, binary=True, limit=300000)\n",
    "print('W2V loaded!')"
   ]
  },
  {
   "cell_type": "markdown",
   "metadata": {},
   "source": [
    "## Load and preprocess training dataset"
   ]
  },
  {
   "cell_type": "code",
   "execution_count": 12,
   "metadata": {},
   "outputs": [
    {
     "name": "stdout",
     "output_type": "stream",
     "text": [
      "Training dataset loaded\n",
      "Number of tweets in training dataset:  2660\n",
      "Lookup table loaded\n",
      "Data Preprocessed!\n"
     ]
    }
   ],
   "source": [
    "''' load training dataset '''\n",
    "TRAIN_SET_NAME = 'train_set_original'\n",
    "TRAIN_DATA_PATH = 'dataset/'+TRAIN_SET_NAME+'.csv'\n",
    "TWEETS_LIST = []\n",
    "LABEL_LIST = []\n",
    "with open(TRAIN_DATA_PATH, newline='') as csvfile:\n",
    "    csvreader = list(csv.reader(csvfile, delimiter=','))\n",
    "    for row in csvreader[1:]:\n",
    "        TWEETS_LIST.append(row[2]) # the third row is the original text\n",
    "        #TWEETS_LIST.append(row[1]) # the second row is the modified text\n",
    "        \n",
    "        if row[3] == '0':\n",
    "            ''' Negative '''\n",
    "            LABEL_LIST.append([1,0])\n",
    "        else:\n",
    "            ''' Positive '''\n",
    "            LABEL_LIST.append([0,1])\n",
    "print('Training dataset loaded')\n",
    "print('Number of tweets in training dataset: ',len(TWEETS_LIST))\n",
    "\n",
    "''' load lookup table '''\n",
    "with (open('dataset/'+TRAIN_SET_NAME+'.lookup', 'rb')) as openfile:\n",
    "    try:\n",
    "        LOADED_TABLE = pickle.load(openfile)\n",
    "        print('Lookup table loaded')\n",
    "    except EOFError:\n",
    "        print('ERROR!')\n",
    "        \n",
    "''' preprocess data '''\n",
    "x_train = []\n",
    "for tweet in TWEETS_LIST:\n",
    "    tmp = []\n",
    "    for word in tweet.split(' '):\n",
    "        try:\n",
    "            tmp.append(w2v_model[word])\n",
    "        except:\n",
    "            ''' OOV word '''\n",
    "            tmp.append(np.random.uniform(-0.5,0.5,K)) # random vector range:(-0.5, 0.5)\n",
    "        if len(tmp) == L:\n",
    "            break # 50 words limit!!\n",
    "    while len(tmp) < L:\n",
    "        ''' pad with zero vectors if less than 50 words '''\n",
    "        tmp.append(np.zeros(K)) \n",
    "    x_train.append(np.array(tmp))\n",
    "x_train = np.array(x_train)\n",
    "y_train = np.array(LABEL_LIST)\n",
    "\n",
    "''' Random shuffle the data '''\n",
    "np.random.seed(10)\n",
    "shuffle_indices = np.random.permutation(np.arange(len(x_train)))\n",
    "x_train = x_train[shuffle_indices]\n",
    "y_train = y_train[shuffle_indices]\n",
    "\n",
    "print('Data Preprocessed!')"
   ]
  },
  {
   "cell_type": "markdown",
   "metadata": {},
   "source": [
    "## Load and preprocess testing dataset"
   ]
  },
  {
   "cell_type": "code",
   "execution_count": 13,
   "metadata": {},
   "outputs": [
    {
     "name": "stdout",
     "output_type": "stream",
     "text": [
      "Training dataset loaded\n",
      "Number of tweets in training dataset:  1040\n",
      "Data Preprocessed!\n"
     ]
    }
   ],
   "source": [
    "''' load training dataset '''\n",
    "TEST_DATA_PATH = 'dataset/test_set-actual-pure.csv'\n",
    "TWEETS_LIST = []\n",
    "LABEL_LIST = []\n",
    "with open(TEST_DATA_PATH, newline='') as csvfile:\n",
    "    csvreader = list(csv.reader(csvfile, delimiter=','))\n",
    "    for row in csvreader[1:]:\n",
    "        TWEETS_LIST.append(row[2]) # the third row is the original text\n",
    "        #TWEETS_LIST.append(row[1]) # the second row is the modified text\n",
    "\n",
    "        if row[3] == '0':\n",
    "            ''' Negative '''\n",
    "            LABEL_LIST.append([1,0])\n",
    "        else:\n",
    "            ''' Positive '''\n",
    "            LABEL_LIST.append([0,1])\n",
    "print('Training dataset loaded')\n",
    "print('Number of tweets in training dataset: ',len(TWEETS_LIST))\n",
    "\n",
    "''' preprocess data '''\n",
    "x_test = []\n",
    "for tweet in TWEETS_LIST:\n",
    "    tmp = []\n",
    "    for word in tweet.split(' '):\n",
    "        try:\n",
    "            tmp.append(w2v_model[word])\n",
    "        except:\n",
    "            ''' OOV word '''\n",
    "            tmp.append(np.random.uniform(-0.5,0.5,K)) # random vector range:(-0.5, 0.5)\n",
    "        if len(tmp) == L:\n",
    "            break # 50 words limit!!\n",
    "    while len(tmp) < L:\n",
    "        ''' pad with zero vectors if less than 50 words '''\n",
    "        tmp.append(np.zeros(K)) \n",
    "    x_test.append(np.array(tmp))\n",
    "x_test = np.array(x_test)\n",
    "y_test = np.array(LABEL_LIST)\n",
    "\n",
    "''' Random shuffle the data '''\n",
    "np.random.seed(10)\n",
    "shuffle_indices = np.random.permutation(np.arange(len(x_test)))\n",
    "x_test = x_test[shuffle_indices]\n",
    "y_test = y_test[shuffle_indices]\n",
    "\n",
    "print('Data Preprocessed!')"
   ]
  },
  {
   "cell_type": "markdown",
   "metadata": {},
   "source": [
    "## Visualize the 2D tweet"
   ]
  },
  {
   "cell_type": "code",
   "execution_count": 14,
   "metadata": {},
   "outputs": [
    {
     "data": {
      "text/plain": [
       "<matplotlib.image.AxesImage at 0x2ccd715d828>"
      ]
     },
     "execution_count": 14,
     "metadata": {},
     "output_type": "execute_result"
    },
    {
     "data": {
      "image/png": "[encoded data removed]",
      "text/plain": [
       "<Figure size 432x288 with 3 Axes>"
      ]
     },
     "metadata": {
      "needs_background": "light"
     },
     "output_type": "display_data"
    }
   ],
   "source": [
    "import matplotlib.pyplot as plt\n",
    "from PIL import Image\n",
    "\n",
    "sample = x_train[0].reshape(L,K)\n",
    "plt.subplot('311')\n",
    "plt.imshow(sample, cmap=plt.get_cmap('gray'))\n",
    "plt.subplot('312')\n",
    "plt.imshow(sample[:20,:100], cmap=plt.get_cmap('gray'))\n",
    "plt.subplot('313')\n",
    "plt.imshow(sample[:20,:40], cmap=plt.get_cmap('gray'))"
   ]
  },
  {
   "cell_type": "markdown",
   "metadata": {},
   "source": [
    "## Load CNN model"
   ]
  },
  {
   "cell_type": "code",
   "execution_count": 6,
   "metadata": {},
   "outputs": [
    {
     "name": "stdout",
     "output_type": "stream",
     "text": [
      "CNN created\n"
     ]
    }
   ],
   "source": [
    "POS_WEIGHT = 372.0/2700\n",
    "#POS_WEIGHT = 5352.0/12661\n",
    "\n",
    "scores, predictions, loss, accuracy = get_cnn(_x, _y, POS_WEIGHT) \n",
    "print('CNN created')"
   ]
  },
  {
   "cell_type": "markdown",
   "metadata": {},
   "source": [
    "## Train"
   ]
  },
  {
   "cell_type": "code",
   "execution_count": 36,
   "metadata": {
    "scrolled": true
   },
   "outputs": [
    {
     "name": "stdout",
     "output_type": "stream",
     "text": [
      "Step: 0 Train_Acc: 0.921875 Train_loss: 0.15228921 Test_Acc: 0.48846152 Test_loss: 0.69495547\n",
      "\n",
      "Epoch: 0 Test_Acc: 0.57884616 Test_loss: 0.38801152\n",
      "Epoch  0\n",
      "\n",
      "Epoch: 1 Test_Acc: 0.61730766 Test_loss: 0.31000826\n",
      "Epoch  1\n",
      "Step: 100 Train_Acc: 0.96875 Train_loss: 0.0406278 Test_Acc: 0.71057695 Test_loss: 0.19600672\n",
      "\n",
      "Epoch: 2 Test_Acc: 0.6701923 Test_loss: 0.24779177\n",
      "Epoch  2\n",
      "\n",
      "Epoch: 3 Test_Acc: 0.64326924 Test_loss: 0.35408884\n",
      "Epoch  3\n",
      "Step: 200 Train_Acc: 0.984375 Train_loss: 0.014189629 Test_Acc: 0.6625 Test_loss: 0.32386932\n",
      "\n",
      "Epoch: 4 Test_Acc: 0.6096154 Test_loss: 0.43967244\n",
      "Epoch  4\n",
      "\n",
      "Epoch: 5 Test_Acc: 0.63461536 Test_loss: 0.39459336\n",
      "Epoch  5\n",
      "\n",
      "Epoch: 6 Test_Acc: 0.6557692 Test_loss: 0.3746913\n",
      "Epoch  6\n",
      "Step: 300 Train_Acc: 1.0 Train_loss: 0.011902002 Test_Acc: 0.6057692 Test_loss: 0.5359035\n",
      "\n",
      "Epoch: 7 Test_Acc: 0.6576923 Test_loss: 0.38020328\n",
      "Epoch  7\n",
      "\n",
      "Epoch: 8 Test_Acc: 0.67115384 Test_loss: 0.37602827\n",
      "Epoch  8\n",
      "Step: 400 Train_Acc: 0.984375 Train_loss: 0.011199832 Test_Acc: 0.74615383 Test_loss: 0.24192755\n",
      "\n",
      "Epoch: 9 Test_Acc: 0.6807692 Test_loss: 0.36465326\n",
      "Epoch  9\n",
      "\n",
      "Epoch: 10 Test_Acc: 0.69326925 Test_loss: 0.35039008\n",
      "Epoch  10\n",
      "\n",
      "Epoch: 11 Test_Acc: 0.7 Test_loss: 0.33579493\n",
      "Epoch  11\n",
      "Step: 500 Train_Acc: 1.0 Train_loss: 0.003607527 Test_Acc: 0.5971154 Test_loss: 0.63003165\n",
      "\n",
      "Epoch: 12 Test_Acc: 0.7173077 Test_loss: 0.31827554\n",
      "Epoch  12\n",
      "\n",
      "Epoch: 13 Test_Acc: 0.73173076 Test_loss: 0.30308545\n",
      "Epoch  13\n",
      "Step: 600 Train_Acc: 1.0 Train_loss: 0.0023979163 Test_Acc: 0.6721154 Test_loss: 0.4576356\n",
      "\n",
      "Epoch: 14 Test_Acc: 0.74038464 Test_loss: 0.2876584\n",
      "Epoch  14\n",
      "\n",
      "Epoch: 15 Test_Acc: 0.7567308 Test_loss: 0.2765908\n",
      "Epoch  15\n",
      "\n",
      "Epoch: 16 Test_Acc: 0.7605769 Test_loss: 0.2688163\n",
      "Epoch  16\n"
     ]
    }
   ],
   "source": [
    "PRINT_STEP = 100\n",
    "LR = 1e-3 # learning rate\n",
    "TOTAL_EPOCHS = 17\n",
    "BATCH_SIZE = 64\n",
    "\n",
    "''' Optimizer '''\n",
    "global_step = tf.Variable(0, name=\"global_step\", trainable=False)\n",
    "optimizer = tf.train.AdamOptimizer(LR)\n",
    "grads_and_vars = optimizer.compute_gradients(loss)\n",
    "train_op = optimizer.apply_gradients(grads_and_vars, global_step=global_step)\n",
    "\n",
    "with tf.Session() as sess:\n",
    "    # Initialize parameters\n",
    "    sess.run(tf.global_variables_initializer())\n",
    "    \n",
    "    # Saver\n",
    "    saver = tf.train.Saver()\n",
    "    \n",
    "    step = 0\n",
    "    # Train epochs\n",
    "    for epoch in range(TOTAL_EPOCHS):\n",
    "        \n",
    "        i = 0\n",
    "        while True:\n",
    "            ''' Get training batch '''\n",
    "            if i+BATCH_SIZE > len(x_train):\n",
    "                break\n",
    "            else:\n",
    "                batch_x = x_train[i:i+BATCH_SIZE]\n",
    "                batch_y = y_train[i:i+BATCH_SIZE]\n",
    "                i += BATCH_SIZE\n",
    "            \n",
    "            ''' Train the model '''\n",
    "            sess.run(train_op, feed_dict={_x: batch_x, _y: batch_y})\n",
    "            \n",
    "            ''' Display '''\n",
    "            if step%PRINT_STEP == 0:\n",
    "                [train_acc, train_loss] = sess.run([accuracy, loss], feed_dict={_x: batch_x, _y: batch_y})\n",
    "                [test_acc, test_loss] = sess.run([accuracy, loss], feed_dict={_x: x_test, _y: y_test})\n",
    "                print('Step: '+str(step)+' Train_Acc: '+str(train_acc)+' Train_loss: '+str(train_loss)+' Test_Acc: '+str(test_acc)+' Test_loss: '+str(test_loss))\n",
    "                #print(str(step)+','+str(train_acc)+','+str(train_loss)+','+str(test_acc)+','+str(test_loss))\n",
    "            \n",
    "            step+=1\n",
    "            \n",
    "        ''' Epoch test '''\n",
    "        [test_acc, test_loss] = sess.run([accuracy, loss], feed_dict={_x: x_test, _y: y_test})\n",
    "        print('\\nEpoch: '+str(epoch)+' Test_Acc: '+str(test_acc)+' Test_loss: '+str(test_loss))\n",
    "        print('Epoch ', epoch)\n",
    "        ''' Save model '''\n",
    "        saver.save(sess, 'saved_model-2700/model.ckpt')\n",
    "        #print('Model saved\\n')\n",
    "        \n",
    "        "
   ]
  },
  {
   "cell_type": "markdown",
   "metadata": {},
   "source": [
    "## Demo"
   ]
  },
  {
   "cell_type": "code",
   "execution_count": 7,
   "metadata": {},
   "outputs": [
    {
     "name": "stderr",
     "output_type": "stream",
     "text": [
      "c:\\users\\yanpe\\appdata\\local\\programs\\python\\python35\\lib\\site-packages\\gensim\\utils.py:1212: UserWarning: detected Windows; aliasing chunkize to chunkize_serial\n",
      "  warnings.warn(\"detected Windows; aliasing chunkize to chunkize_serial\")\n"
     ]
    }
   ],
   "source": [
    "import gensim\n",
    "MODEL_PATH = 'dataset/word2vec_twitter_model.bin'\n",
    "w2v_model = gensim.models.KeyedVectors.load_word2vec_format(MODEL_PATH, binary=True, limit=300000)"
   ]
  },
  {
   "cell_type": "code",
   "execution_count": 8,
   "metadata": {},
   "outputs": [
    {
     "name": "stdout",
     "output_type": "stream",
     "text": [
      "Och, the word \"injest\" cannot be found in the w2v model!\n",
      "Och, the word \"injesting\" cannot be found in the w2v model!\n",
      "Och, the word \"smokei\" cannot be found in the w2v model!\n",
      "Och, the word \"420\" cannot be found in the w2v model!\n",
      "Och, the word \"=========\" cannot be found in the w2v model!\n",
      "\n",
      "input shape:  (30, 50, 400)\n",
      "INFO:tensorflow:Restoring parameters from saved_model/model.ckpt\n",
      "\n",
      "RESULTS (+: positive; -: negative):\n",
      "+:  cocaine snorting day\n",
      "+:  vape lot bud err day\n",
      "+:  gonna injest a tabs get real\n",
      "+:  inhale nitrous stay up enjoy\n",
      "-:  shoot up that real smack enjoy\n",
      "+:  like LSD seeing the colour\n",
      "+:  heroin blaze it all time\n",
      "+:  injesting toking doping xanax\n",
      "+:  chewing shrooms kind day\n",
      "+:  make mary jane enjoy pot smokei enjoy smoking weed\n",
      "+:  the government should legalize crack and meth\n",
      "+:  snorting cocaine is a good time\n",
      "+:  smoke weed everyday\n",
      "-:  there is a man by the arcade selling sweetest dope\n",
      "-:  i should switch to crack and become the largest of the crack heads\n",
      "-:  smoking a blunt and keeping it real\n",
      "+:  420 blaze it with some sweet bud\n",
      "+:  the world would be better if we all smoked weed and did LSD\n",
      "-:  thinking about moving up to something more powerful perhaps crack or coke\n",
      "+:  =========\n",
      "-:  i think all drugs should be illegal\n",
      "-:  the chimney is smoking and I mowed the grass\n",
      "-:  the opioid crisis has gotten out of control\n",
      "-:  my mom says cocaine and pills lead to failure\n",
      "+:  i have never done drugs especially not weed\n",
      "+:  special k is delicious\n",
      "+:  i feel like a complete dope\n",
      "-:  my bud and I are going to board on the sweet powder\n",
      "+:  the government should do something about all these drugs\n",
      "+:  people should in fact not smoke weed everyday\n"
     ]
    }
   ],
   "source": [
    "\n",
    "input_texts = [\n",
    "    'cocaine snorting day',\n",
    "    'vape lot bud err day',\n",
    "    'gonna injest a tabs get real',\n",
    "    'inhale nitrous stay up enjoy',\n",
    "    'shoot up that real smack enjoy',\n",
    "    'like LSD seeing the colour',\n",
    "    'heroin blaze it all time',\n",
    "    'injesting toking doping xanax',\n",
    "    'chewing shrooms kind day',\n",
    "    'make mary jane enjoy pot smoke'\n",
    "    'i enjoy smoking weed',\n",
    "    'the government should legalize crack and meth',\n",
    "    'snorting cocaine is a good time',\n",
    "    'smoke weed everyday',\n",
    "    'there is a man by the arcade selling sweetest dope',\n",
    "    'i should switch to crack and become the largest of the crack heads',\n",
    "    'smoking a blunt and keeping it real',\n",
    "    '420 blaze it with some sweet bud',\n",
    "    'the world would be better if we all smoked weed and did LSD',\n",
    "    'thinking about moving up to something more powerful perhaps crack or coke',\n",
    "    '=========',\n",
    "    'i think all drugs should be illegal',\n",
    "    'the chimney is smoking and I mowed the grass',\n",
    "    'the opioid crisis has gotten out of control',\n",
    "    'my mom says cocaine and pills lead to failure',\n",
    "    'i have never done drugs especially not weed',\n",
    "    'special k is delicious',\n",
    "    'i feel like a complete dope',\n",
    "    'my bud and I are going to board on the sweet powder',\n",
    "    'the government should do something about all these drugs',\n",
    "    'people should in fact not smoke weed everyday'\n",
    "]\n",
    "\n",
    "\n",
    "x_ = []\n",
    "for tweet in input_texts:\n",
    "    tmp = []\n",
    "    for word in tweet.split(' '):\n",
    "        try:\n",
    "            tmp.append(w2v_model[word])\n",
    "        except:\n",
    "            print('Och, the word \\\"'+word+'\\\" cannot be found in the w2v model!')\n",
    "            ''' OOV word '''\n",
    "            tmp.append(np.random.uniform(-0.5,0.5,K)) # random vector range:(-0.5, 0.5)\n",
    "        if len(tmp) == L:\n",
    "            break # 50 words limit!!\n",
    "    while len(tmp) < L:\n",
    "        ''' pad with zero vectors if less than 50 words '''\n",
    "        tmp.append(np.zeros(K)) \n",
    "    x_.append(np.array(tmp))\n",
    "x_ = np.array(x_)\n",
    "\n",
    "print('\\ninput shape: ',x_.shape)\n",
    "\n",
    "with tf.Session() as sess:\n",
    "    # Load parameters\n",
    "    saver = tf.train.Saver()\n",
    "    saver.restore(sess, 'saved_model/model.ckpt')\n",
    "\n",
    "    pred = sess.run([predictions], feed_dict={_x: x_})\n",
    "\n",
    "    pred = np.array(pred[0])\n",
    "    \n",
    "    ''' Display result '''\n",
    "    print('\\nRESULTS (+: positive; -: negative):')\n",
    "    for i in range(len(input_texts)):\n",
    "        if pred[i] == 1:\n",
    "            print('+: ',input_texts[i])\n",
    "        else:\n",
    "            print('-: ',input_texts[i])"
   ]
  },
  {
   "cell_type": "markdown",
   "metadata": {},
   "source": [
    "# Testing ROC Curve"
   ]
  },
  {
   "cell_type": "code",
   "execution_count": 37,
   "metadata": {},
   "outputs": [
    {
     "name": "stdout",
     "output_type": "stream",
     "text": [
      "INFO:tensorflow:Restoring parameters from saved_model-2700/model.ckpt\n",
      "Accuracy:  0.7605769\n"
     ]
    }
   ],
   "source": [
    "with tf.Session() as sess:\n",
    "    # Load parameters\n",
    "    saver = tf.train.Saver()\n",
    "    saver.restore(sess, 'saved_model-2700/model.ckpt')\n",
    "    [scor, pred, accu] = sess.run([scores, predictions, accuracy], feed_dict={_x: x_test, _y: y_test})\n",
    "print('Accuracy: ', accu)\n",
    "\n",
    "def sigmoid(x):\n",
    "    return 1/(1+np.exp(-x))\n",
    "\n",
    "positive_scores = np.zeros(len(scor))\n",
    "for i in range(len(scor)):\n",
    "    #positive_scores[i] = sigmoid(scor[i][1])\n",
    "    positive_scores[i] = sigmoid(scor[i][1] - scor[i][0])\n",
    "\n",
    "from sklearn.metrics import roc_curve, auc\n",
    "\n",
    "ground_truth = np.zeros(len(y_test), dtype=int)\n",
    "\n",
    "for i in range(len(y_test)):\n",
    "    if y_test[i][1] == 1:\n",
    "        ground_truth[i] = 1\n",
    "        \n",
    "fpr, tpr, thresholds = roc_curve(ground_truth, positive_scores)\n",
    "roc_auc = auc(fpr, tpr)"
   ]
  },
  {
   "cell_type": "code",
   "execution_count": 38,
   "metadata": {},
   "outputs": [
    {
     "data": {
      "image/png": "[encoded data removed]",
      "text/plain": [
       "<Figure size 432x288 with 1 Axes>"
      ]
     },
     "metadata": {
      "needs_background": "light"
     },
     "output_type": "display_data"
    }
   ],
   "source": [
    "import matplotlib.pyplot as plt\n",
    "lw = 2\n",
    "plt.figure()\n",
    "plt.plot(fpr, tpr, color='darkorange', lw=lw, label='ROC curve (area = %0.2f)' % roc_auc)\n",
    "plt.plot([0, 1], [0, 1], color='navy', lw=lw, linestyle='--') # diagonal line\n",
    "plt.xlim([0.0, 1.0])\n",
    "plt.ylim([0.0, 1.05])\n",
    "plt.xlabel('False Positive Rate')\n",
    "plt.ylabel('True Positive Rate')\n",
    "plt.title('Receiver operating characteristic')\n",
    "plt.legend(loc=\"lower right\")\n",
    "plt.show()"
   ]
  },
  {
   "cell_type": "code",
   "execution_count": null,
   "metadata": {},
   "outputs": [],
   "source": []
  }
 ],
 "metadata": {
  "kernelspec": {
   "display_name": "Python 3",
   "language": "python",
   "name": "python3"
  },
  "language_info": {
   "codemirror_mode": {
    "name": "ipython",
    "version": 3
   },
   "file_extension": ".py",
   "mimetype": "text/x-python",
   "name": "python",
   "nbconvert_exporter": "python",
   "pygments_lexer": "ipython3",
   "version": "3.7.4"
  }
 },
 "nbformat": 4,
 "nbformat_minor": 2
}
