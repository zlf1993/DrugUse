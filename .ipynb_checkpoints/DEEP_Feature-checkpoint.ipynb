{
 "cells": [
  {
   "cell_type": "code",
   "execution_count": null,
   "metadata": {},
   "outputs": [],
   "source": [
    "import tensorflow as tf\n",
    "import numpy as np\n",
    "from CNN import get_cnn\n",
    "import os\n",
    "import time\n",
    "import datetime\n",
    "import pickle\n",
    "import csv\n",
    "import gensim\n",
    "\n",
    "K = 400 # word2vec embedding dimension\n",
    "L = 50 # 50 words limit for each sentence\n",
    "NUM_CLASSES = 2\n",
    "\n",
    "_x = tf.placeholder(tf.float32, [None, L, K], name='input_x')\n",
    "_y = tf.placeholder(tf.float32, [None, NUM_CLASSES], name='input_y')\n",
    "\n",
    "# Load the CNN architecture\n",
    "scores, predictions, loss, accuracy = get_cnn(_x, _y, 0)\n",
    "\n",
    "print('CNN architecture is loaded!')"
   ]
  },
  {
   "cell_type": "markdown",
   "metadata": {},
   "source": [
    "## Load word2vec model"
   ]
  },
  {
   "cell_type": "code",
   "execution_count": null,
   "metadata": {},
   "outputs": [],
   "source": [
    "MODEL_PATH = 'dataset/word2vec_twitter_model.bin'\n",
    "w2v_model = gensim.models.KeyedVectors.load_word2vec_format(MODEL_PATH, binary=True, limit=3000000)\n",
    "#w2v_model = gensim.models.KeyedVectors.load_word2vec_format(MODEL_PATH, binary=True, limit=300000)"
   ]
  },
  {
   "cell_type": "markdown",
   "metadata": {},
   "source": [
    "## Demo"
   ]
  },
  {
   "cell_type": "code",
   "execution_count": 4,
   "metadata": {},
   "outputs": [
    {
     "name": "stdout",
     "output_type": "stream",
     "text": [
      "Och, the word \"injest\" cannot be found in the w2v model!\n",
      "Och, the word \"injesting\" cannot be found in the w2v model!\n",
      "Och, the word \"smokei\" cannot be found in the w2v model!\n",
      "Och, the word \"420\" cannot be found in the w2v model!\n",
      "Och, the word \"=========\" cannot be found in the w2v model!\n",
      "\n",
      "input shape:  (31, 50, 400)\n",
      "INFO:tensorflow:Restoring parameters from saved_model/model.ckpt\n",
      "\n",
      "RESULTS (+: positive; -: negative):\n",
      "+:  cocaine snorting day\n",
      "-:  vape lot bud err day\n",
      "-:  gonna injest a tabs get real\n",
      "+:  inhale nitrous stay up enjoy\n",
      "-:  shoot up that real smack enjoy\n",
      "-:  like LSD seeing the colour\n",
      "-:  heroin blaze it all time\n",
      "+:  injesting toking doping xanax\n",
      "+:  injecting toking doping xanax\n",
      "+:  chewing shrooms kind day\n",
      "+:  make mary jane enjoy pot smokei enjoy smoking weed\n",
      "-:  the government should legalize crack and meth\n",
      "+:  snorting cocaine is a good time\n",
      "+:  smoke weed everyday\n",
      "-:  there is a man by the arcade selling sweetest dope\n",
      "-:  i should switch to crack and become the largest of the crack heads\n",
      "+:  smoking a blunt and keeping it real\n",
      "-:  420 blaze it with some sweet bud\n",
      "-:  the world would be better if we all smoked weed and did LSD\n",
      "-:  thinking about moving up to something more powerful perhaps crack or coke\n",
      "+:  =========\n",
      "-:  i think all drugs should be illegal\n",
      "-:  the chimney is smoking and I mowed the grass\n",
      "-:  the opioid crisis has gotten out of control\n",
      "-:  my mom says cocaine and pills lead to failure\n",
      "-:  i have never done drugs especially not weed\n",
      "-:  special k is delicious\n",
      "-:  i feel like a complete dope\n",
      "-:  my bud and I are going to board on the sweet powder\n",
      "-:  the government should do something about all these drugs\n",
      "+:  people should in fact not smoke weed everyday\n"
     ]
    }
   ],
   "source": [
    "#'''\n",
    "input_texts = [\n",
    "    'cocaine snorting day',\n",
    "    'vape lot bud err day',\n",
    "    'gonna injest a tabs get real',\n",
    "    'inhale nitrous stay up enjoy',\n",
    "    'shoot up that real smack enjoy',\n",
    "    'like LSD seeing the colour',\n",
    "    'heroin blaze it all time',\n",
    "    'injesting toking doping xanax',\n",
    "        'injecting toking doping xanax',\n",
    "    'chewing shrooms kind day',\n",
    "    'make mary jane enjoy pot smoke'\n",
    "    'i enjoy smoking weed',\n",
    "    'the government should legalize crack and meth',\n",
    "    'snorting cocaine is a good time',\n",
    "    'smoke weed everyday',\n",
    "    'there is a man by the arcade selling sweetest dope',\n",
    "    'i should switch to crack and become the largest of the crack heads',\n",
    "    'smoking a blunt and keeping it real',\n",
    "    '420 blaze it with some sweet bud',\n",
    "    'the world would be better if we all smoked weed and did LSD',\n",
    "    'thinking about moving up to something more powerful perhaps crack or coke',\n",
    "    '=========',\n",
    "    'i think all drugs should be illegal',\n",
    "    'the chimney is smoking and I mowed the grass',\n",
    "    'the opioid crisis has gotten out of control',\n",
    "    'my mom says cocaine and pills lead to failure',\n",
    "    'i have never done drugs especially not weed',\n",
    "    'special k is delicious',\n",
    "    'i feel like a complete dope',\n",
    "    'my bud and I are going to board on the sweet powder',\n",
    "    'the government should do something about all these drugs',\n",
    "    'people should in fact not smoke weed everyday'\n",
    "]\n",
    "#'''\n",
    "\n",
    "x_ = []\n",
    "for tweet in input_texts:\n",
    "    tmp = []\n",
    "    for word in tweet.split(' '):\n",
    "        try:\n",
    "            tmp.append(w2v_model[word])\n",
    "        except:\n",
    "            print('Och, the word \\\"'+word+'\\\" cannot be found in the w2v model!')\n",
    "            ''' OOV word '''\n",
    "            tmp.append(np.random.uniform(-0.5,0.5,K)) # random vector range:(-0.5, 0.5)\n",
    "        if len(tmp) == L:\n",
    "            break # 50 words limit!!\n",
    "    while len(tmp) < L:\n",
    "        ''' pad with zero vectors if less than 50 words '''\n",
    "        tmp.append(np.zeros(K)) \n",
    "    x_.append(np.array(tmp))\n",
    "x_ = np.array(x_)\n",
    "\n",
    "print('\\ninput shape: ',x_.shape)\n",
    "\n",
    "with tf.Session() as sess:\n",
    "    # Load parameters\n",
    "    saver = tf.train.Saver()\n",
    "    saver.restore(sess, 'saved_model/model.ckpt')\n",
    "\n",
    "    pred = sess.run([predictions], feed_dict={_x: x_})\n",
    "\n",
    "    pred = np.array(pred[0])\n",
    "    \n",
    "    ''' Display result '''\n",
    "    print('\\nRESULTS (+: positive; -: negative):')\n",
    "    for i in range(len(input_texts)):\n",
    "        if pred[i] == 1:\n",
    "            print('+: ',input_texts[i])\n",
    "        else:\n",
    "            print('-: ',input_texts[i])"
   ]
  },
  {
   "cell_type": "markdown",
   "metadata": {},
   "source": [
    "## ROC Curve Testing"
   ]
  },
  {
   "cell_type": "code",
   "execution_count": 5,
   "metadata": {},
   "outputs": [
    {
     "name": "stdout",
     "output_type": "stream",
     "text": [
      "INFO:tensorflow:Restoring parameters from saved_model/model.ckpt\n"
     ]
    }
   ],
   "source": [
    "with tf.Session() as sess:\n",
    "    # Load parameters\n",
    "    saver = tf.train.Saver()\n",
    "    saver.restore(sess, 'saved_model/model.ckpt')\n",
    "\n",
    "    scor = sess.run([scores], feed_dict={_x: x_})\n"
   ]
  },
  {
   "cell_type": "code",
   "execution_count": 6,
   "metadata": {},
   "outputs": [
    {
     "data": {
      "text/plain": [
       "[array([[-2.2844472 ,  0.45230508],\n",
       "        [ 0.3246349 , -0.4336147 ],\n",
       "        [ 0.5988334 , -1.1328299 ],\n",
       "        [-1.4545765 ,  0.09920391],\n",
       "        [ 1.5917889 , -1.4656153 ],\n",
       "        [ 2.2871933 , -2.539256  ],\n",
       "        [-0.8220365 , -1.5007877 ],\n",
       "        [-1.4454064 ,  0.7006907 ],\n",
       "        [-2.2311022 ,  1.469138  ],\n",
       "        [-1.2664328 ,  0.61699057],\n",
       "        [-0.8129853 ,  0.30081043],\n",
       "        [ 0.57452106, -1.9074421 ],\n",
       "        [-0.5743528 , -0.2270588 ],\n",
       "        [-4.715733  ,  3.3147125 ],\n",
       "        [ 3.0354025 , -4.5918922 ],\n",
       "        [ 3.4133363 , -5.0883327 ],\n",
       "        [-0.07833821, -0.06570707],\n",
       "        [ 1.1480099 , -1.2819974 ],\n",
       "        [-0.45785207, -1.0113585 ],\n",
       "        [ 2.02484   , -3.5441687 ],\n",
       "        [-0.39897382,  0.24424061],\n",
       "        [ 1.7863067 , -2.7242336 ],\n",
       "        [ 0.19401729, -2.7403276 ],\n",
       "        [ 5.477749  , -3.5069795 ],\n",
       "        [ 1.0294707 , -2.238199  ],\n",
       "        [ 0.4842878 , -2.35853   ],\n",
       "        [ 2.2836828 , -3.001885  ],\n",
       "        [ 1.7965034 , -2.7560134 ],\n",
       "        [ 3.1582122 , -4.241705  ],\n",
       "        [ 2.7121258 , -2.3749104 ],\n",
       "        [-0.66937864, -0.5485861 ]], dtype=float32)]"
      ]
     },
     "execution_count": 6,
     "metadata": {},
     "output_type": "execute_result"
    }
   ],
   "source": [
    "scor"
   ]
  },
  {
   "cell_type": "code",
   "execution_count": 7,
   "metadata": {},
   "outputs": [],
   "source": [
    "def sigmoid(x):\n",
    "    return 1/(1+np.exp(-x))"
   ]
  },
  {
   "cell_type": "code",
   "execution_count": 8,
   "metadata": {},
   "outputs": [],
   "source": [
    "positive_scores = np.zeros(len(scor[0]))"
   ]
  },
  {
   "cell_type": "code",
   "execution_count": 16,
   "metadata": {},
   "outputs": [],
   "source": [
    "for i in range(len(scor[0])):\n",
    "    positive_scores[i] = sigmoid(scor[0][i][1] - scor[0][i][0])"
   ]
  },
  {
   "cell_type": "code",
   "execution_count": 17,
   "metadata": {},
   "outputs": [
    {
     "data": {
      "text/plain": [
       "array([9.39160796e-01, 3.19026409e-01, 1.50374956e-01, 8.25459070e-01,\n",
       "       4.48988960e-02, 7.95120038e-03, 3.36540075e-01, 8.95303509e-01,\n",
       "       9.75878632e-01, 8.68003845e-01, 7.52836084e-01, 7.71323413e-02,\n",
       "       5.85961225e-01, 9.99674703e-01, 4.86739556e-04, 2.03087827e-04,\n",
       "       5.03157749e-01, 8.09129124e-02, 3.65051268e-01, 3.79976597e-03,\n",
       "       6.55479727e-01, 1.08729961e-02, 5.04816569e-02, 1.25293304e-04,\n",
       "       3.66971167e-02, 5.50537634e-02, 5.03863975e-03, 1.04306943e-02,\n",
       "       6.10929948e-04, 6.13838606e-03, 5.30161477e-01])"
      ]
     },
     "execution_count": 17,
     "metadata": {},
     "output_type": "execute_result"
    }
   ],
   "source": [
    "positive_scores"
   ]
  },
  {
   "cell_type": "code",
   "execution_count": 18,
   "metadata": {},
   "outputs": [],
   "source": [
    "from sklearn.metrics import roc_curve, auc"
   ]
  },
  {
   "cell_type": "code",
   "execution_count": 19,
   "metadata": {},
   "outputs": [],
   "source": [
    "ground_truth = [1,1,1,1,1,1,1,1,1,1,1,1,1,1,1,1,1,1,1,1,0,0,0,0,0,0,0,0,0,0,0]"
   ]
  },
  {
   "cell_type": "code",
   "execution_count": 20,
   "metadata": {},
   "outputs": [],
   "source": [
    "fpr, tpr, thresholds = roc_curve(ground_truth, positive_scores)\n",
    "roc_auc = auc(fpr, tpr)\n"
   ]
  },
  {
   "cell_type": "code",
   "execution_count": 21,
   "metadata": {},
   "outputs": [
    {
     "data": {
      "image/png": "[encoded data removed]",
      "text/plain": [
       "<Figure size 432x288 with 1 Axes>"
      ]
     },
     "metadata": {
      "needs_background": "light"
     },
     "output_type": "display_data"
    }
   ],
   "source": [
    "import matplotlib.pyplot as plt\n",
    "lw = 2\n",
    "plt.figure()\n",
    "plt.plot(fpr, tpr, color='darkorange', lw=lw, label='ROC curve (area = %0.2f)' % roc_auc)\n",
    "plt.plot([0, 1], [0, 1], color='navy', lw=lw, linestyle='--') # diagonal line\n",
    "plt.xlim([0.0, 1.0])\n",
    "plt.ylim([0.0, 1.05])\n",
    "plt.xlabel('False Positive Rate')\n",
    "plt.ylabel('True Positive Rate')\n",
    "plt.title('Receiver operating characteristic')\n",
    "plt.legend(loc=\"lower right\")\n",
    "plt.show()"
   ]
  },
  {
   "cell_type": "code",
   "execution_count": null,
   "metadata": {},
   "outputs": [],
   "source": []
  },
  {
   "cell_type": "code",
   "execution_count": 5,
   "metadata": {},
   "outputs": [],
   "source": [
    "#'''\n",
    "input_texts = [\n",
    "    'i think all drugs should be illegal',\n",
    "]\n",
    "#'''\n",
    "\n",
    "x_ = []\n",
    "for tweet in input_texts:\n",
    "    tmp = []\n",
    "    for word in tweet.split(' '):\n",
    "        try:\n",
    "            tmp.append(w2v_model[word])\n",
    "        except:\n",
    "            print('Och, the word \\\"'+word+'\\\" cannot be found in the w2v model!')\n",
    "            ''' OOV word '''\n",
    "            tmp.append(np.random.uniform(-0.5,0.5,K)) # random vector range:(-0.5, 0.5)\n",
    "        if len(tmp) == L:\n",
    "            break # 50 words limit!!\n",
    "    while len(tmp) < L:\n",
    "        ''' pad with zero vectors if less than 50 words '''\n",
    "        tmp.append(np.zeros(K)) \n",
    "    x_.append(np.array(tmp))\n",
    "x_ = np.array(x_)"
   ]
  },
  {
   "cell_type": "code",
   "execution_count": 23,
   "metadata": {},
   "outputs": [
    {
     "data": {
      "image/png": "[encoded data removed]",
      "text/plain": [
       "<Figure size 432x288 with 3 Axes>"
      ]
     },
     "metadata": {
      "needs_background": "light"
     },
     "output_type": "display_data"
    }
   ],
   "source": [
    "import matplotlib.pyplot as plt\n",
    "from PIL import Image\n",
    "\n",
    "sample = x_[0].reshape(L,K)\n",
    "\n",
    "plt.subplot(3,1,1)\n",
    "plt.imshow(sample, cmap=plt.get_cmap('gray'))\n",
    "plt.axis('off')\n",
    "\n",
    "plt.subplot(3,1,2)\n",
    "plt.imshow(sample[:20,:100], cmap=plt.get_cmap('gray'))\n",
    "plt.axis('off')\n",
    "\n",
    "plt.subplot(3,1,3)\n",
    "plt.imshow(sample[:10,:40], cmap=plt.get_cmap('gray'))\n",
    "plt.axis('off')\n",
    "\n",
    "#plt.set_cmap('hot')\n",
    "\n",
    "plt.savefig(\"Figures/\"+\"w2v_2.png\",dpi=1500)"
   ]
  },
  {
   "cell_type": "code",
   "execution_count": null,
   "metadata": {},
   "outputs": [],
   "source": []
  }
 ],
 "metadata": {
  "kernelspec": {
   "display_name": "Python 3",
   "language": "python",
   "name": "python3"
  },
  "language_info": {
   "codemirror_mode": {
    "name": "ipython",
    "version": 3
   },
   "file_extension": ".py",
   "mimetype": "text/x-python",
   "name": "python",
   "nbconvert_exporter": "python",
   "pygments_lexer": "ipython3",
   "version": "3.5.3"
  }
 },
 "nbformat": 4,
 "nbformat_minor": 2
}
