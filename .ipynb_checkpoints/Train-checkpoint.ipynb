{
 "cells": [
  {
   "cell_type": "markdown",
   "metadata": {},
   "source": [
    "# Train neural network model"
   ]
  },
  {
   "cell_type": "markdown",
   "metadata": {},
   "source": [
    "## Hyper-parameters and placeholders"
   ]
  },
  {
   "cell_type": "code",
   "execution_count": 1,
   "metadata": {},
   "outputs": [],
   "source": [
    "import tensorflow as tf\n",
    "import numpy as np\n",
    "from CNN import get_cnn\n",
    "import os\n",
    "import time\n",
    "import datetime\n",
    "import pickle\n",
    "import csv\n",
    "\n",
    "K = 400 # word2vec embedding dimension\n",
    "L = 50 # 50 words limit for each sentence\n",
    "NUM_CLASSES = 2\n",
    "\n",
    "_x = tf.placeholder(tf.float32, [None, L, K], name='input_x')\n",
    "_y = tf.placeholder(tf.float32, [None, NUM_CLASSES], name='input_y')"
   ]
  },
  {
   "cell_type": "markdown",
   "metadata": {},
   "source": [
    "## Load and preprocess training dataset"
   ]
  },
  {
   "cell_type": "code",
   "execution_count": 2,
   "metadata": {},
   "outputs": [
    {
     "name": "stdout",
     "output_type": "stream",
     "text": [
      "Training dataset loaded\n",
      "Number of tweets in training dataset:  2660\n",
      "Lookup table loaded\n",
      "Data Preprocessed!\n"
     ]
    }
   ],
   "source": [
    "''' load training dataset '''\n",
    "TRAIN_SET_NAME = 'train_set_original'\n",
    "TRAIN_DATA_PATH = 'dataset/'+TRAIN_SET_NAME+'.csv'\n",
    "TWEETS_LIST = []\n",
    "LABEL_LIST = []\n",
    "with open(TRAIN_DATA_PATH, newline='') as csvfile:\n",
    "    csvreader = list(csv.reader(csvfile, delimiter=','))\n",
    "    for row in csvreader[1:]:\n",
    "        TWEETS_LIST.append(row[2]) # the third row is the original text\n",
    "        #TWEETS_LIST.append(row[1]) # the second row is the modified text\n",
    "        \n",
    "        if row[3] == '0':\n",
    "            ''' Negative '''\n",
    "            LABEL_LIST.append([1,0])\n",
    "        else:\n",
    "            ''' Positive '''\n",
    "            LABEL_LIST.append([0,1])\n",
    "print('Training dataset loaded')\n",
    "print('Number of tweets in training dataset: ',len(TWEETS_LIST))\n",
    "\n",
    "''' load lookup table '''\n",
    "with (open('dataset/'+TRAIN_SET_NAME+'.lookup', 'rb')) as openfile:\n",
    "    try:\n",
    "        LOADED_TABLE = pickle.load(openfile)\n",
    "        print('Lookup table loaded')\n",
    "    except EOFError:\n",
    "        print('ERROR!')\n",
    "        \n",
    "''' preprocess data '''\n",
    "x_train = []\n",
    "for tweet in TWEETS_LIST:\n",
    "    tmp = []\n",
    "    for word in tweet.split(' '):\n",
    "        try:\n",
    "            tmp.append(LOADED_TABLE[word])\n",
    "        except:\n",
    "            ''' OOV word '''\n",
    "            tmp.append(np.random.uniform(-0.5,0.5,K)) # random vector range:(-0.5, 0.5)\n",
    "        if len(tmp) == L:\n",
    "            break # 50 words limit!!\n",
    "    while len(tmp) < L:\n",
    "        ''' pad with zero vectors if less than 50 words '''\n",
    "        tmp.append(np.zeros(K)) \n",
    "    x_train.append(np.array(tmp))\n",
    "x_train = np.array(x_train)\n",
    "y_train = np.array(LABEL_LIST)\n",
    "\n",
    "''' Random shuffle the data '''\n",
    "np.random.seed(10)\n",
    "shuffle_indices = np.random.permutation(np.arange(len(x_train)))\n",
    "x_train = x_train[shuffle_indices]\n",
    "y_train = y_train[shuffle_indices]\n",
    "\n",
    "print('Data Preprocessed!')"
   ]
  },
  {
   "cell_type": "markdown",
   "metadata": {},
   "source": [
    "## Load and preprocess testing dataset"
   ]
  },
  {
   "cell_type": "code",
   "execution_count": 3,
   "metadata": {},
   "outputs": [
    {
     "name": "stdout",
     "output_type": "stream",
     "text": [
      "Training dataset loaded\n",
      "Number of tweets in training dataset:  1040\n",
      "Data Preprocessed!\n"
     ]
    }
   ],
   "source": [
    "''' load training dataset '''\n",
    "TEST_DATA_PATH = 'dataset/test_set-actual-pure.csv'\n",
    "TWEETS_LIST = []\n",
    "LABEL_LIST = []\n",
    "with open(TEST_DATA_PATH, newline='') as csvfile:\n",
    "    csvreader = list(csv.reader(csvfile, delimiter=','))\n",
    "    for row in csvreader[1:]:\n",
    "        TWEETS_LIST.append(row[2]) # the third row is the original text\n",
    "        #TWEETS_LIST.append(row[1]) # the second row is the modified text\n",
    "\n",
    "        if row[3] == '0':\n",
    "            ''' Negative '''\n",
    "            LABEL_LIST.append([1,0])\n",
    "        else:\n",
    "            ''' Positive '''\n",
    "            LABEL_LIST.append([0,1])\n",
    "print('Training dataset loaded')\n",
    "print('Number of tweets in training dataset: ',len(TWEETS_LIST))\n",
    "\n",
    "''' preprocess data '''\n",
    "x_test = []\n",
    "for tweet in TWEETS_LIST:\n",
    "    tmp = []\n",
    "    for word in tweet.split(' '):\n",
    "        try:\n",
    "            tmp.append(LOADED_TABLE[word])\n",
    "        except:\n",
    "            ''' OOV word '''\n",
    "            tmp.append(np.random.uniform(-0.5,0.5,K)) # random vector range:(-0.5, 0.5)\n",
    "        if len(tmp) == L:\n",
    "            break # 50 words limit!!\n",
    "    while len(tmp) < L:\n",
    "        ''' pad with zero vectors if less than 50 words '''\n",
    "        tmp.append(np.zeros(K)) \n",
    "    x_test.append(np.array(tmp))\n",
    "x_test = np.array(x_test)\n",
    "y_test = np.array(LABEL_LIST)\n",
    "\n",
    "''' Random shuffle the data '''\n",
    "np.random.seed(10)\n",
    "shuffle_indices = np.random.permutation(np.arange(len(x_test)))\n",
    "x_test = x_test[shuffle_indices]\n",
    "y_test = y_test[shuffle_indices]\n",
    "\n",
    "print('Data Preprocessed!')"
   ]
  },
  {
   "cell_type": "markdown",
   "metadata": {},
   "source": [
    "## Visualize the 2D tweet"
   ]
  },
  {
   "cell_type": "code",
   "execution_count": 4,
   "metadata": {},
   "outputs": [
    {
     "data": {
      "text/plain": [
       "<matplotlib.image.AxesImage at 0x221a28417f0>"
      ]
     },
     "execution_count": 4,
     "metadata": {},
     "output_type": "execute_result"
    }
   ],
   "source": [
    "import matplotlib.pyplot as plt\n",
    "from PIL import Image\n",
    "\n",
    "sample = x_train[0].reshape(L,K)\n",
    "plt.subplot('311')\n",
    "plt.imshow(sample, cmap=plt.get_cmap('gray'))\n",
    "plt.subplot('312')\n",
    "plt.imshow(sample[:20,:100], cmap=plt.get_cmap('gray'))\n",
    "plt.subplot('313')\n",
    "plt.imshow(sample[:20,:40], cmap=plt.get_cmap('gray'))"
   ]
  },
  {
   "cell_type": "markdown",
   "metadata": {},
   "source": [
    "## Load CNN model"
   ]
  },
  {
   "cell_type": "code",
   "execution_count": 5,
   "metadata": {},
   "outputs": [
    {
     "name": "stdout",
     "output_type": "stream",
     "text": [
      "CNN created\n"
     ]
    }
   ],
   "source": [
    "POS_WEIGHT = 372.0/2700\n",
    "#POS_WEIGHT = 5352.0/12661\n",
    "\n",
    "scores, predictions, loss, accuracy = get_cnn(_x, _y, POS_WEIGHT) \n",
    "print('CNN created')"
   ]
  },
  {
   "cell_type": "markdown",
   "metadata": {},
   "source": [
    "## Train"
   ]
  },
  {
   "cell_type": "code",
   "execution_count": 11,
   "metadata": {},
   "outputs": [
    {
     "name": "stdout",
     "output_type": "stream",
     "text": [
      "Step: 0 Train_Acc: 0.921875 Train_loss: 0.63908213 Test_Acc: 0.48653847 Test_loss: 1.1850165\n",
      "Step: 10 Train_Acc: 0.890625 Train_loss: 0.23792185 Test_Acc: 0.48653847 Test_loss: 0.7922022\n",
      "Step: 20 Train_Acc: 0.90625 Train_loss: 0.10771632 Test_Acc: 0.48653847 Test_loss: 0.5523793\n",
      "Step: 30 Train_Acc: 0.890625 Train_loss: 0.09924728 Test_Acc: 0.4846154 Test_loss: 0.3807452\n",
      "Step: 40 Train_Acc: 0.859375 Train_loss: 0.1148778 Test_Acc: 0.49326923 Test_loss: 0.31218195\n",
      "\n",
      "Epoch: 0 Test_Acc: 0.49326923 Test_loss: 0.31218195\n",
      "Epoch  0\n",
      "Step: 50 Train_Acc: 0.921875 Train_loss: 0.08445004 Test_Acc: 0.5 Test_loss: 0.30634895\n",
      "Step: 60 Train_Acc: 0.890625 Train_loss: 0.08900948 Test_Acc: 0.49903846 Test_loss: 0.3251018\n",
      "Step: 70 Train_Acc: 0.765625 Train_loss: 0.14310133 Test_Acc: 0.5019231 Test_loss: 0.32985792\n",
      "Step: 80 Train_Acc: 0.9375 Train_loss: 0.06451636 Test_Acc: 0.5105769 Test_loss: 0.32356948\n",
      "\n",
      "Epoch: 1 Test_Acc: 0.5105769 Test_loss: 0.32370389\n",
      "Epoch  1\n",
      "Step: 90 Train_Acc: 0.890625 Train_loss: 0.09200285 Test_Acc: 0.51346153 Test_loss: 0.32379285\n",
      "Step: 100 Train_Acc: 0.875 Train_loss: 0.08286541 Test_Acc: 0.5153846 Test_loss: 0.3261135\n",
      "Step: 110 Train_Acc: 0.90625 Train_loss: 0.07826037 Test_Acc: 0.52403843 Test_loss: 0.31667843\n",
      "Step: 120 Train_Acc: 0.890625 Train_loss: 0.06562325 Test_Acc: 0.5365385 Test_loss: 0.30291587\n",
      "\n",
      "Epoch: 2 Test_Acc: 0.5375 Test_loss: 0.3041468\n",
      "Epoch  2\n",
      "Step: 130 Train_Acc: 0.90625 Train_loss: 0.074030206 Test_Acc: 0.5375 Test_loss: 0.30894879\n",
      "Step: 140 Train_Acc: 0.890625 Train_loss: 0.07492378 Test_Acc: 0.5375 Test_loss: 0.3160726\n",
      "Step: 150 Train_Acc: 0.875 Train_loss: 0.08857311 Test_Acc: 0.5451923 Test_loss: 0.31193644\n",
      "Step: 160 Train_Acc: 0.9375 Train_loss: 0.06375784 Test_Acc: 0.55673075 Test_loss: 0.29650268\n",
      "\n",
      "Epoch: 3 Test_Acc: 0.55673075 Test_loss: 0.2983139\n",
      "Epoch  3\n",
      "Step: 170 Train_Acc: 0.890625 Train_loss: 0.08469872 Test_Acc: 0.55673075 Test_loss: 0.30347717\n",
      "Step: 180 Train_Acc: 0.890625 Train_loss: 0.064981 Test_Acc: 0.55288464 Test_loss: 0.3102996\n",
      "Step: 190 Train_Acc: 0.890625 Train_loss: 0.07189115 Test_Acc: 0.5557692 Test_loss: 0.3099546\n",
      "Step: 200 Train_Acc: 0.9375 Train_loss: 0.049671657 Test_Acc: 0.57211536 Test_loss: 0.2931542\n",
      "\n",
      "Epoch: 4 Test_Acc: 0.57211536 Test_loss: 0.29552802\n",
      "Epoch  4\n",
      "Step: 210 Train_Acc: 0.9375 Train_loss: 0.061650187 Test_Acc: 0.5711538 Test_loss: 0.3011357\n",
      "Step: 220 Train_Acc: 0.921875 Train_loss: 0.060067356 Test_Acc: 0.56634617 Test_loss: 0.30758706\n",
      "Step: 230 Train_Acc: 0.984375 Train_loss: 0.04477134 Test_Acc: 0.56826925 Test_loss: 0.31007034\n",
      "Step: 240 Train_Acc: 0.921875 Train_loss: 0.053140316 Test_Acc: 0.5846154 Test_loss: 0.2922847\n",
      "\n",
      "Epoch: 5 Test_Acc: 0.5826923 Test_loss: 0.2949884\n",
      "Epoch  5\n",
      "Step: 250 Train_Acc: 0.859375 Train_loss: 0.08524759 Test_Acc: 0.5817308 Test_loss: 0.30025348\n",
      "Step: 260 Train_Acc: 0.953125 Train_loss: 0.059726022 Test_Acc: 0.5778846 Test_loss: 0.30648634\n",
      "Step: 270 Train_Acc: 0.859375 Train_loss: 0.059541576 Test_Acc: 0.5769231 Test_loss: 0.31119943\n",
      "Step: 280 Train_Acc: 0.953125 Train_loss: 0.05851166 Test_Acc: 0.58557695 Test_loss: 0.2932432\n",
      "\n",
      "Epoch: 6 Test_Acc: 0.58557695 Test_loss: 0.29592037\n",
      "Epoch  6\n",
      "Step: 290 Train_Acc: 0.921875 Train_loss: 0.064544395 Test_Acc: 0.5846154 Test_loss: 0.300663\n",
      "Step: 300 Train_Acc: 0.921875 Train_loss: 0.056184478 Test_Acc: 0.58076924 Test_loss: 0.30693868\n",
      "Step: 310 Train_Acc: 0.9375 Train_loss: 0.048582062 Test_Acc: 0.57884616 Test_loss: 0.3136848\n",
      "Step: 320 Train_Acc: 0.9375 Train_loss: 0.038768172 Test_Acc: 0.5923077 Test_loss: 0.29556397\n",
      "\n",
      "Epoch: 7 Test_Acc: 0.5932692 Test_loss: 0.2976251\n",
      "Epoch  7\n",
      "Step: 330 Train_Acc: 0.953125 Train_loss: 0.045033112 Test_Acc: 0.59134614 Test_loss: 0.30148262\n",
      "Step: 340 Train_Acc: 0.90625 Train_loss: 0.07410696 Test_Acc: 0.5846154 Test_loss: 0.3083621\n",
      "Step: 350 Train_Acc: 0.90625 Train_loss: 0.0638132 Test_Acc: 0.5826923 Test_loss: 0.31611255\n",
      "Step: 360 Train_Acc: 0.96875 Train_loss: 0.03280735 Test_Acc: 0.5942308 Test_loss: 0.299029\n",
      "\n",
      "Epoch: 8 Test_Acc: 0.5951923 Test_loss: 0.2998642\n",
      "Epoch  8\n",
      "Step: 370 Train_Acc: 0.9375 Train_loss: 0.054005943 Test_Acc: 0.5942308 Test_loss: 0.3027807\n",
      "Step: 380 Train_Acc: 0.9375 Train_loss: 0.055273674 Test_Acc: 0.58942306 Test_loss: 0.3099321\n",
      "Step: 390 Train_Acc: 0.875 Train_loss: 0.067357734 Test_Acc: 0.58365387 Test_loss: 0.31853914\n",
      "Step: 400 Train_Acc: 0.90625 Train_loss: 0.07321153 Test_Acc: 0.5990385 Test_loss: 0.30328426\n",
      "\n",
      "Epoch: 9 Test_Acc: 0.6048077 Test_loss: 0.30226532\n",
      "Epoch  9\n",
      "Step: 410 Train_Acc: 0.96875 Train_loss: 0.036481358 Test_Acc: 0.60384613 Test_loss: 0.3040178\n",
      "Step: 420 Train_Acc: 0.90625 Train_loss: 0.05152869 Test_Acc: 0.5923077 Test_loss: 0.31177726\n",
      "Step: 430 Train_Acc: 0.96875 Train_loss: 0.028781775 Test_Acc: 0.5875 Test_loss: 0.3211888\n",
      "Step: 440 Train_Acc: 0.9375 Train_loss: 0.044105098 Test_Acc: 0.5990385 Test_loss: 0.30823442\n",
      "Step: 450 Train_Acc: 0.9375 Train_loss: 0.053556155 Test_Acc: 0.60673076 Test_loss: 0.30502367\n",
      "\n",
      "Epoch: 10 Test_Acc: 0.60673076 Test_loss: 0.30502367\n",
      "Epoch  10\n",
      "Step: 460 Train_Acc: 0.921875 Train_loss: 0.044919435 Test_Acc: 0.5990385 Test_loss: 0.31404987\n",
      "Step: 470 Train_Acc: 0.9375 Train_loss: 0.042647526 Test_Acc: 0.58653843 Test_loss: 0.3234867\n",
      "Step: 480 Train_Acc: 0.90625 Train_loss: 0.05694943 Test_Acc: 0.60384613 Test_loss: 0.3130706\n",
      "Step: 490 Train_Acc: 0.96875 Train_loss: 0.032972574 Test_Acc: 0.6096154 Test_loss: 0.30679926\n",
      "\n",
      "Epoch: 11 Test_Acc: 0.6096154 Test_loss: 0.30777037\n",
      "Epoch  11\n",
      "Step: 500 Train_Acc: 0.921875 Train_loss: 0.040625796 Test_Acc: 0.60384613 Test_loss: 0.31660107\n",
      "Step: 510 Train_Acc: 0.921875 Train_loss: 0.045819134 Test_Acc: 0.5903846 Test_loss: 0.32599512\n",
      "Step: 520 Train_Acc: 0.953125 Train_loss: 0.03488364 Test_Acc: 0.60384613 Test_loss: 0.31876132\n",
      "Step: 530 Train_Acc: 0.953125 Train_loss: 0.033908352 Test_Acc: 0.61153847 Test_loss: 0.3084495\n",
      "\n",
      "Epoch: 12 Test_Acc: 0.60865384 Test_loss: 0.31072015\n",
      "Epoch  12\n",
      "Step: 540 Train_Acc: 0.921875 Train_loss: 0.043051142 Test_Acc: 0.6057692 Test_loss: 0.31974134\n",
      "Step: 550 Train_Acc: 0.9375 Train_loss: 0.03957126 Test_Acc: 0.5942308 Test_loss: 0.32879698\n",
      "Step: 560 Train_Acc: 0.890625 Train_loss: 0.049813762 Test_Acc: 0.60384613 Test_loss: 0.32343167\n",
      "Step: 570 Train_Acc: 0.953125 Train_loss: 0.04253987 Test_Acc: 0.61730766 Test_loss: 0.31060445\n",
      "\n",
      "Epoch: 13 Test_Acc: 0.6144231 Test_loss: 0.31348112\n",
      "Epoch  13\n",
      "Step: 580 Train_Acc: 0.90625 Train_loss: 0.046967514 Test_Acc: 0.60673076 Test_loss: 0.3223506\n",
      "Step: 590 Train_Acc: 0.953125 Train_loss: 0.038368665 Test_Acc: 0.5990385 Test_loss: 0.33146584\n",
      "Step: 600 Train_Acc: 0.953125 Train_loss: 0.034329847 Test_Acc: 0.6028846 Test_loss: 0.3286918\n",
      "Step: 610 Train_Acc: 0.984375 Train_loss: 0.028988754 Test_Acc: 0.61923075 Test_loss: 0.31321326\n",
      "\n",
      "Epoch: 14 Test_Acc: 0.6163462 Test_loss: 0.31635946\n",
      "Epoch  14\n"
     ]
    }
   ],
   "source": [
    "PRINT_STEP = 10\n",
    "LR = 1e-4 # learning rate\n",
    "TOTAL_EPOCHS = 15\n",
    "BATCH_SIZE = 64\n",
    "\n",
    "''' Optimizer '''\n",
    "global_step = tf.Variable(0, name=\"global_step\", trainable=False)\n",
    "optimizer = tf.train.AdamOptimizer(LR)\n",
    "grads_and_vars = optimizer.compute_gradients(loss)\n",
    "train_op = optimizer.apply_gradients(grads_and_vars, global_step=global_step)\n",
    "\n",
    "with tf.Session() as sess:\n",
    "    # Initialize parameters\n",
    "    sess.run(tf.global_variables_initializer())\n",
    "    \n",
    "    # Saver\n",
    "    saver = tf.train.Saver()\n",
    "    \n",
    "    step = 0\n",
    "    # Train epochs\n",
    "    for epoch in range(TOTAL_EPOCHS):\n",
    "        \n",
    "        i = 0\n",
    "        while True:\n",
    "            ''' Get training batch '''\n",
    "            if i+BATCH_SIZE > len(x_train):\n",
    "                break\n",
    "            else:\n",
    "                batch_x = x_train[i:i+BATCH_SIZE]\n",
    "                batch_y = y_train[i:i+BATCH_SIZE]\n",
    "                i += BATCH_SIZE\n",
    "            \n",
    "            ''' Train the model '''\n",
    "            sess.run(train_op, feed_dict={_x: batch_x, _y: batch_y})\n",
    "            \n",
    "            ''' Display '''\n",
    "            if step%PRINT_STEP == 0:\n",
    "                [train_acc, train_loss] = sess.run([accuracy, loss], feed_dict={_x: batch_x, _y: batch_y})\n",
    "                [test_acc, test_loss] = sess.run([accuracy, loss], feed_dict={_x: x_test, _y: y_test})\n",
    "                print('Step: '+str(step)+' Train_Acc: '+str(train_acc)+' Train_loss: '+str(train_loss)+' Test_Acc: '+str(test_acc)+' Test_loss: '+str(test_loss))\n",
    "                #print(str(step)+','+str(train_acc)+','+str(train_loss)+','+str(test_acc)+','+str(test_loss))\n",
    "            \n",
    "            step+=1\n",
    "            \n",
    "        ''' Epoch test '''\n",
    "        [test_acc, test_loss] = sess.run([accuracy, loss], feed_dict={_x: x_test, _y: y_test})\n",
    "        print('\\nEpoch: '+str(epoch)+' Test_Acc: '+str(test_acc)+' Test_loss: '+str(test_loss))\n",
    "        print('Epoch ', epoch)\n",
    "        ''' Save model '''\n",
    "        saver.save(sess, 'saved_model-2700/model.ckpt')\n",
    "        #print('Model saved\\n')\n",
    "        \n",
    "        "
   ]
  },
  {
   "cell_type": "markdown",
   "metadata": {},
   "source": [
    "## Demo"
   ]
  },
  {
   "cell_type": "code",
   "execution_count": 7,
   "metadata": {},
   "outputs": [
    {
     "name": "stderr",
     "output_type": "stream",
     "text": [
      "c:\\users\\yanpe\\appdata\\local\\programs\\python\\python35\\lib\\site-packages\\gensim\\utils.py:1212: UserWarning: detected Windows; aliasing chunkize to chunkize_serial\n",
      "  warnings.warn(\"detected Windows; aliasing chunkize to chunkize_serial\")\n"
     ]
    }
   ],
   "source": [
    "import gensim\n",
    "MODEL_PATH = 'dataset/word2vec_twitter_model.bin'\n",
    "w2v_model = gensim.models.KeyedVectors.load_word2vec_format(MODEL_PATH, binary=True, limit=300000)"
   ]
  },
  {
   "cell_type": "code",
   "execution_count": 8,
   "metadata": {},
   "outputs": [
    {
     "name": "stdout",
     "output_type": "stream",
     "text": [
      "Och, the word \"injest\" cannot be found in the w2v model!\n",
      "Och, the word \"injesting\" cannot be found in the w2v model!\n",
      "Och, the word \"smokei\" cannot be found in the w2v model!\n",
      "Och, the word \"420\" cannot be found in the w2v model!\n",
      "Och, the word \"=========\" cannot be found in the w2v model!\n",
      "\n",
      "input shape:  (30, 50, 400)\n",
      "INFO:tensorflow:Restoring parameters from saved_model/model.ckpt\n",
      "\n",
      "RESULTS (+: positive; -: negative):\n",
      "+:  cocaine snorting day\n",
      "+:  vape lot bud err day\n",
      "+:  gonna injest a tabs get real\n",
      "+:  inhale nitrous stay up enjoy\n",
      "-:  shoot up that real smack enjoy\n",
      "+:  like LSD seeing the colour\n",
      "+:  heroin blaze it all time\n",
      "+:  injesting toking doping xanax\n",
      "+:  chewing shrooms kind day\n",
      "+:  make mary jane enjoy pot smokei enjoy smoking weed\n",
      "+:  the government should legalize crack and meth\n",
      "+:  snorting cocaine is a good time\n",
      "+:  smoke weed everyday\n",
      "-:  there is a man by the arcade selling sweetest dope\n",
      "-:  i should switch to crack and become the largest of the crack heads\n",
      "-:  smoking a blunt and keeping it real\n",
      "+:  420 blaze it with some sweet bud\n",
      "+:  the world would be better if we all smoked weed and did LSD\n",
      "-:  thinking about moving up to something more powerful perhaps crack or coke\n",
      "+:  =========\n",
      "-:  i think all drugs should be illegal\n",
      "-:  the chimney is smoking and I mowed the grass\n",
      "-:  the opioid crisis has gotten out of control\n",
      "-:  my mom says cocaine and pills lead to failure\n",
      "+:  i have never done drugs especially not weed\n",
      "+:  special k is delicious\n",
      "+:  i feel like a complete dope\n",
      "-:  my bud and I are going to board on the sweet powder\n",
      "+:  the government should do something about all these drugs\n",
      "+:  people should in fact not smoke weed everyday\n"
     ]
    }
   ],
   "source": [
    "\n",
    "input_texts = [\n",
    "    'cocaine snorting day',\n",
    "    'vape lot bud err day',\n",
    "    'gonna injest a tabs get real',\n",
    "    'inhale nitrous stay up enjoy',\n",
    "    'shoot up that real smack enjoy',\n",
    "    'like LSD seeing the colour',\n",
    "    'heroin blaze it all time',\n",
    "    'injesting toking doping xanax',\n",
    "    'chewing shrooms kind day',\n",
    "    'make mary jane enjoy pot smoke'\n",
    "    'i enjoy smoking weed',\n",
    "    'the government should legalize crack and meth',\n",
    "    'snorting cocaine is a good time',\n",
    "    'smoke weed everyday',\n",
    "    'there is a man by the arcade selling sweetest dope',\n",
    "    'i should switch to crack and become the largest of the crack heads',\n",
    "    'smoking a blunt and keeping it real',\n",
    "    '420 blaze it with some sweet bud',\n",
    "    'the world would be better if we all smoked weed and did LSD',\n",
    "    'thinking about moving up to something more powerful perhaps crack or coke',\n",
    "    '=========',\n",
    "    'i think all drugs should be illegal',\n",
    "    'the chimney is smoking and I mowed the grass',\n",
    "    'the opioid crisis has gotten out of control',\n",
    "    'my mom says cocaine and pills lead to failure',\n",
    "    'i have never done drugs especially not weed',\n",
    "    'special k is delicious',\n",
    "    'i feel like a complete dope',\n",
    "    'my bud and I are going to board on the sweet powder',\n",
    "    'the government should do something about all these drugs',\n",
    "    'people should in fact not smoke weed everyday'\n",
    "]\n",
    "\n",
    "\n",
    "x_ = []\n",
    "for tweet in input_texts:\n",
    "    tmp = []\n",
    "    for word in tweet.split(' '):\n",
    "        try:\n",
    "            tmp.append(w2v_model[word])\n",
    "        except:\n",
    "            print('Och, the word \\\"'+word+'\\\" cannot be found in the w2v model!')\n",
    "            ''' OOV word '''\n",
    "            tmp.append(np.random.uniform(-0.5,0.5,K)) # random vector range:(-0.5, 0.5)\n",
    "        if len(tmp) == L:\n",
    "            break # 50 words limit!!\n",
    "    while len(tmp) < L:\n",
    "        ''' pad with zero vectors if less than 50 words '''\n",
    "        tmp.append(np.zeros(K)) \n",
    "    x_.append(np.array(tmp))\n",
    "x_ = np.array(x_)\n",
    "\n",
    "print('\\ninput shape: ',x_.shape)\n",
    "\n",
    "with tf.Session() as sess:\n",
    "    # Load parameters\n",
    "    saver = tf.train.Saver()\n",
    "    saver.restore(sess, 'saved_model/model.ckpt')\n",
    "\n",
    "    pred = sess.run([predictions], feed_dict={_x: x_})\n",
    "\n",
    "    pred = np.array(pred[0])\n",
    "    \n",
    "    ''' Display result '''\n",
    "    print('\\nRESULTS (+: positive; -: negative):')\n",
    "    for i in range(len(input_texts)):\n",
    "        if pred[i] == 1:\n",
    "            print('+: ',input_texts[i])\n",
    "        else:\n",
    "            print('-: ',input_texts[i])"
   ]
  },
  {
   "cell_type": "markdown",
   "metadata": {},
   "source": [
    "# Testing ROC Curve"
   ]
  },
  {
   "cell_type": "code",
   "execution_count": null,
   "metadata": {},
   "outputs": [],
   "source": [
    "with tf.Session() as sess:\n",
    "    # Load parameters\n",
    "    saver = tf.train.Saver()\n",
    "    saver.restore(sess, 'saved_model-best/model.ckpt')\n",
    "    [scor, pred, accu] = sess.run([scores, predictions, accuracy], feed_dict={_x: x_test, _y: y_test})\n",
    "print('Accuracy: ', accu)\n",
    "\n",
    "def sigmoid(x):\n",
    "    return 1/(1+np.exp(-x))\n",
    "\n",
    "positive_scores = np.zeros(len(scor))\n",
    "for i in range(len(scor)):\n",
    "    #positive_scores[i] = sigmoid(scor[i][1])\n",
    "    positive_scores[i] = sigmoid(scor[i][1] - scor[i][0])\n",
    "\n",
    "from sklearn.metrics import roc_curve, auc\n",
    "\n",
    "ground_truth = np.zeros(len(y_test), dtype=int)\n",
    "\n",
    "for i in range(len(y_test)):\n",
    "    if y_test[i][1] == 1:\n",
    "        ground_truth[i] = 1\n",
    "        \n",
    "fpr, tpr, thresholds = roc_curve(ground_truth, positive_scores)\n",
    "roc_auc = auc(fpr, tpr)"
   ]
  },
  {
   "cell_type": "code",
   "execution_count": 16,
   "metadata": {},
   "outputs": [
    {
     "data": {
      "image/png": "[encoded data removed]",
      "text/plain": [
       "<Figure size 432x288 with 1 Axes>"
      ]
     },
     "metadata": {
      "needs_background": "light"
     },
     "output_type": "display_data"
    }
   ],
   "source": [
    "import matplotlib.pyplot as plt\n",
    "lw = 2\n",
    "plt.figure()\n",
    "plt.plot(fpr, tpr, color='darkorange', lw=lw, label='ROC curve (area = %0.2f)' % roc_auc)\n",
    "plt.plot([0, 1], [0, 1], color='navy', lw=lw, linestyle='--') # diagonal line\n",
    "plt.xlim([0.0, 1.0])\n",
    "plt.ylim([0.0, 1.05])\n",
    "plt.xlabel('False Positive Rate')\n",
    "plt.ylabel('True Positive Rate')\n",
    "plt.title('Receiver operating characteristic')\n",
    "plt.legend(loc=\"lower right\")\n",
    "plt.show()"
   ]
  },
  {
   "cell_type": "code",
   "execution_count": null,
   "metadata": {},
   "outputs": [],
   "source": []
  }
 ],
 "metadata": {
  "kernelspec": {
   "display_name": "Python 3",
   "language": "python",
   "name": "python3"
  },
  "language_info": {
   "codemirror_mode": {
    "name": "ipython",
    "version": 3
   },
   "file_extension": ".py",
   "mimetype": "text/x-python",
   "name": "python",
   "nbconvert_exporter": "python",
   "pygments_lexer": "ipython3",
   "version": "3.5.3"
  }
 },
 "nbformat": 4,
 "nbformat_minor": 2
}
